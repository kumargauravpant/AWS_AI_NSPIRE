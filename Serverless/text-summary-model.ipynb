{
 "cells": [
  {
   "cell_type": "code",
   "execution_count": 11,
   "metadata": {},
   "outputs": [],
   "source": [
    "import torch\n",
    "import truecase\n",
    "from transformers import T5Tokenizer, T5ForConditionalGeneration, T5Config\n",
    "\n",
    "class TextSummaryModel:\n",
    "    def __init__(self):\n",
    "        self.tokenizer = T5Tokenizer.from_pretrained('t5-small') \n",
    "        self.model = T5ForConditionalGeneration.from_pretrained('t5-small')\n",
    "        self.device = torch.device('cpu')\n",
    "        \n",
    "    def encode(self, text):\n",
    "        preprocess_text = text.strip().replace(\"\\n\",\"\") \n",
    "        t5_prepared_Text = \"summarize: \"+preprocess_text \n",
    "        tokenized_text = self.tokenizer(t5_prepared_Text,return_tensors=\"pt\").to(self.device)\n",
    "        return tokenized_text\n",
    "       \n",
    "    def decode(self, token):\n",
    "        summary = self.tokenizer.decode(token[0], skip_special_tokens=True)\n",
    "        return truecase.get_true_case(summary)\n",
    "    \n",
    "    def summarize(self, text):\n",
    "        tokenized_text = self.encode(text)\n",
    "        summary_ids = self.model.generate(input_ids = tokenized_text['input_ids'],\n",
    "                                    num_beams=4,\n",
    "                                    no_repeat_ngram_size=2,\n",
    "                                    min_length=60,\n",
    "                                    max_length=150,\n",
    "                                    early_stopping=False)\n",
    "        text_summary = self.decode(summary_ids)\n",
    "        return text_summary"
   ]
  },
  {
   "cell_type": "code",
   "execution_count": 12,
   "metadata": {},
   "outputs": [],
   "source": [
    "\n",
    "text = '''Hello. My name is Kirsten Freeman. I'm originally from Denver colorado but was raised right here in Knoxville Tennessee. Today I'll be sharing a little bit more about my background, my interest in the holidays and my plans for the future. As I mentioned before, I was raised in Knoxville. My elementary middle and high school are all within a 15 mile radius of the University of Tennessee. I've been playing sports since I was six years old, which was a crucial part of my childhood and helped me become who I am today. I'm also a very competitive person. This helped bring a sense of selflessness at a very young age because I was willing to sacrifice anything to win games and reach my desired and result this sense of selflessness would help me in the future. When I became more interested in service clubs, my interest in entering the service groups only increases I would throughout school, by my senior in high school. This interest had turned into passion. I was involved with five service clubs within my school as well as to other in the community. I received most school service principles award, a service to humanities award and other recognitions given to me by my school as well as my community for my efforts and passion in school and community service. Lastly, I would like to share my plans for the future. I'm a history major with a minor and secondary education. I plan on becoming a history teacher and participating in the teachers for America program, which combines my love of history teaching and helping others. My end goal, however, is to become a high school principal in this position, I would love to remain heavily involved with student life. So today I've shared with you a little bit more about myself, my interest and hobbies and finally, my plans for the future. Thank you.'''"
   ]
  },
  {
   "cell_type": "code",
   "execution_count": 13,
   "metadata": {},
   "outputs": [
    {
     "data": {
      "text/plain": [
       "\"Hello. My name is Kirsten Freeman. I'm originally from Denver colorado but was raised right here in Knoxville Tennessee. Today I'll be sharing a little bit more about my background, my interest in the holidays and my plans for the future. As I mentioned before, I was raised in Knoxville. My elementary middle and high school are all within a 15 mile radius of the University of Tennessee. I've been playing sports since I was six years old, which was a crucial part of my childhood and helped me become who I am today. I'm also a very competitive person. This helped bring a sense of selflessness at a very young age because I was willing to sacrifice anything to win games and reach my desired and result this sense of selflessness would help me in the future. When I became more interested in service clubs, my interest in entering the service groups only increases I would throughout school, by my senior in high school. This interest had turned into passion. I was involved with five service clubs within my school as well as to other in the community. I received most school service principles award, a service to humanities award and other recognitions given to me by my school as well as my community for my efforts and passion in school and community service. Lastly, I would like to share my plans for the future. I'm a history major with a minor and secondary education. I plan on becoming a history teacher and participating in the teachers for America program, which combines my love of history teaching and helping others. My end goal, however, is to become a high school principal in this position, I would love to remain heavily involved with student life. So today I've shared with you a little bit more about myself, my interest and hobbies and finally, my plans for the future. Thank you.\""
      ]
     },
     "execution_count": 13,
     "metadata": {},
     "output_type": "execute_result"
    }
   ],
   "source": [
    "text"
   ]
  },
  {
   "cell_type": "code",
   "execution_count": 14,
   "metadata": {},
   "outputs": [],
   "source": [
    "model = TextSummaryModel()"
   ]
  },
  {
   "cell_type": "code",
   "execution_count": 15,
   "metadata": {},
   "outputs": [],
   "source": [
    "output = model.summarize(text)"
   ]
  },
  {
   "cell_type": "code",
   "execution_count": 16,
   "metadata": {},
   "outputs": [
    {
     "data": {
      "text/plain": [
       "\"My name is Kirsten Freeman, originally from Colorado but was raised in Knoxville . Today I've shared with you a little bit more about my background, my interest in the holidays and my plans for the future . I would love to remain heavily involved with student life.\""
      ]
     },
     "execution_count": 16,
     "metadata": {},
     "output_type": "execute_result"
    }
   ],
   "source": [
    "output"
   ]
  },
  {
   "cell_type": "markdown",
   "metadata": {},
   "source": [
    "### Saving the Model"
   ]
  },
  {
   "cell_type": "code",
   "execution_count": 17,
   "metadata": {},
   "outputs": [],
   "source": [
    "!mkdir model"
   ]
  },
  {
   "cell_type": "code",
   "execution_count": 18,
   "metadata": {},
   "outputs": [],
   "source": [
    "T5Tokenizer.from_pretrained('t5-small').save_pretrained('./model') \n",
    "T5ForConditionalGeneration.from_pretrained('t5-small').save_pretrained('./model')"
   ]
  },
  {
   "cell_type": "code",
   "execution_count": 29,
   "metadata": {},
   "outputs": [],
   "source": [
    "import os\n",
    "import tarfile\n",
    "\n",
    "def pack_model(model_path='', file_name=''):\n",
    "    files = [files for root, dirs, files in os.walk(model_path)][0]\n",
    "    with tarfile.open(file_name+ '.tar.gz', 'w:gz') as f:\n",
    "        for file in files:\n",
    "            f.add(f'{model_path}/{file}')\n",
    "    os.rename(f'{os.getcwd()}/{file_name}.tar.gz', f'{model_path}/{file_name}.tar.gz')"
   ]
  },
  {
   "cell_type": "code",
   "execution_count": 30,
   "metadata": {},
   "outputs": [
    {
     "ename": "NameError",
     "evalue": "name 'tar' is not defined",
     "output_type": "error",
     "traceback": [
      "\u001b[1;31m---------------------------------------------------------------------------\u001b[0m",
      "\u001b[1;31mNameError\u001b[0m                                 Traceback (most recent call last)",
      "\u001b[1;32m<ipython-input-30-2c2deb066564>\u001b[0m in \u001b[0;36m<module>\u001b[1;34m\u001b[0m\n\u001b[1;32m----> 1\u001b[1;33m \u001b[0mpack_model\u001b[0m\u001b[1;33m(\u001b[0m\u001b[1;34m'./model'\u001b[0m\u001b[1;33m,\u001b[0m\u001b[1;34m'text-summary-model-small'\u001b[0m\u001b[1;33m)\u001b[0m\u001b[1;33m\u001b[0m\u001b[1;33m\u001b[0m\u001b[0m\n\u001b[0m",
      "\u001b[1;32m<ipython-input-29-ffd10599369c>\u001b[0m in \u001b[0;36mpack_model\u001b[1;34m(model_path, file_name)\u001b[0m\n\u001b[0;32m      8\u001b[0m             \u001b[0mf\u001b[0m\u001b[1;33m.\u001b[0m\u001b[0madd\u001b[0m\u001b[1;33m(\u001b[0m\u001b[1;34mf'{model_path}/{file}'\u001b[0m\u001b[1;33m)\u001b[0m\u001b[1;33m\u001b[0m\u001b[1;33m\u001b[0m\u001b[0m\n\u001b[0;32m      9\u001b[0m     \u001b[0mos\u001b[0m\u001b[1;33m.\u001b[0m\u001b[0mrename\u001b[0m\u001b[1;33m(\u001b[0m\u001b[1;34mf'{os.getcwd()}/{file_name}.tar.gz'\u001b[0m\u001b[1;33m,\u001b[0m \u001b[1;34mf'{model_path}/{file_name}.tar.gz'\u001b[0m\u001b[1;33m)\u001b[0m\u001b[1;33m\u001b[0m\u001b[1;33m\u001b[0m\u001b[0m\n\u001b[1;32m---> 10\u001b[1;33m     \u001b[0mtar\u001b[0m\u001b[1;33m.\u001b[0m\u001b[0mclose\u001b[0m\u001b[1;33m(\u001b[0m\u001b[1;33m)\u001b[0m\u001b[1;33m\u001b[0m\u001b[1;33m\u001b[0m\u001b[0m\n\u001b[0m",
      "\u001b[1;31mNameError\u001b[0m: name 'tar' is not defined"
     ]
    }
   ],
   "source": [
    "pack_model('./model','text-summary-model-small')"
   ]
  },
  {
   "cell_type": "code",
   "execution_count": null,
   "metadata": {},
   "outputs": [],
   "source": []
  }
 ],
 "metadata": {
  "kernelspec": {
   "display_name": "Python 3",
   "language": "python",
   "name": "python3"
  },
  "language_info": {
   "codemirror_mode": {
    "name": "ipython",
    "version": 3
   },
   "file_extension": ".py",
   "mimetype": "text/x-python",
   "name": "python",
   "nbconvert_exporter": "python",
   "pygments_lexer": "ipython3",
   "version": "3.8.3"
  }
 },
 "nbformat": 4,
 "nbformat_minor": 4
}
